{
 "cells": [
  {
   "cell_type": "code",
   "execution_count": 1,
   "metadata": {},
   "outputs": [],
   "source": [
    "import os"
   ]
  },
  {
   "cell_type": "code",
   "execution_count": 2,
   "metadata": {},
   "outputs": [
    {
     "data": {
      "text/plain": [
       "'e:\\\\END TO END ML PROJECT\\\\Text-Summarizer\\\\research'"
      ]
     },
     "execution_count": 2,
     "metadata": {},
     "output_type": "execute_result"
    }
   ],
   "source": [
    "%pwd"
   ]
  },
  {
   "cell_type": "code",
   "execution_count": 3,
   "metadata": {},
   "outputs": [],
   "source": [
    "os.chdir('E:\\END TO END ML PROJECT\\\\Text-Summarizer')"
   ]
  },
  {
   "cell_type": "code",
   "execution_count": 4,
   "metadata": {},
   "outputs": [
    {
     "data": {
      "text/plain": [
       "'E:\\\\END TO END ML PROJECT\\\\Text-Summarizer'"
      ]
     },
     "execution_count": 4,
     "metadata": {},
     "output_type": "execute_result"
    }
   ],
   "source": [
    "%pwd"
   ]
  },
  {
   "cell_type": "code",
   "execution_count": 5,
   "metadata": {},
   "outputs": [],
   "source": [
    "from dataclasses import dataclass\n",
    "from pathlib import Path\n",
    "\n",
    "\n",
    "@dataclass(frozen=True)\n",
    "class ModelTrainerConfig:\n",
    "    root_dir: Path\n",
    "    data_path: Path\n",
    "    model_ckpt: Path\n",
    "    num_train_epochs: int\n",
    "    warmup_steps: int\n",
    "    per_device_train_batch_size: int\n",
    "    weight_decay: float\n",
    "    logging_steps: int\n",
    "    evaluation_strategy: str\n",
    "    eval_steps: int\n",
    "    save_steps: float\n",
    "    gradient_accumulation_steps: int"
   ]
  },
  {
   "cell_type": "code",
   "execution_count": 6,
   "metadata": {},
   "outputs": [],
   "source": [
    "from textSummarizer.constants import *\n",
    "from textSummarizer.utils.common import read_yaml, create_directories"
   ]
  },
  {
   "cell_type": "code",
   "execution_count": 7,
   "metadata": {},
   "outputs": [],
   "source": [
    "class ConfigurationManager:\n",
    "    def __init__(\n",
    "        self,\n",
    "        config_filepath = CONFIG_FILE_PATH,\n",
    "        params_filepath = PARAMS_FILE_PATH):\n",
    "\n",
    "        self.config = read_yaml(config_filepath)\n",
    "        self.params = read_yaml(params_filepath)\n",
    "\n",
    "        create_directories([self.config.artifacts_root])\n",
    "\n",
    "\n",
    "    \n",
    "    def get_model_trainer_config(self) -> ModelTrainerConfig:\n",
    "        config = self.config.model_trainer\n",
    "        params = self.params.TrainingArguments\n",
    "\n",
    "        create_directories([config.root_dir])\n",
    "\n",
    "        model_trainer_config = ModelTrainerConfig(\n",
    "            root_dir=config.root_dir,\n",
    "            data_path=config.data_path,\n",
    "            model_ckpt = config.model_ckpt,\n",
    "            num_train_epochs = params.num_train_epochs,\n",
    "            warmup_steps = params.warmup_steps,\n",
    "            per_device_train_batch_size = params.per_device_train_batch_size,\n",
    "            weight_decay = params.weight_decay,\n",
    "            logging_steps = params.logging_steps,\n",
    "            evaluation_strategy = params.evaluation_strategy,\n",
    "            eval_steps = params.evaluation_strategy,\n",
    "            save_steps = params.save_steps,\n",
    "            gradient_accumulation_steps = params.gradient_accumulation_steps\n",
    "        )\n",
    "\n",
    "        return model_trainer_config"
   ]
  },
  {
   "cell_type": "code",
   "execution_count": 8,
   "metadata": {},
   "outputs": [
    {
     "name": "stderr",
     "output_type": "stream",
     "text": [
      "d:\\Applications\\ANACONDA\\ANACONDA_NAVIGATOR\\envs\\textS\\lib\\site-packages\\tqdm\\auto.py:21: TqdmWarning: IProgress not found. Please update jupyter and ipywidgets. See https://ipywidgets.readthedocs.io/en/stable/user_install.html\n",
      "  from .autonotebook import tqdm as notebook_tqdm\n"
     ]
    }
   ],
   "source": [
    "from transformers import TrainingArguments, Trainer\n",
    "from transformers import DataCollatorForSeq2Seq\n",
    "from transformers import AutoModelForSeq2SeqLM, AutoTokenizer\n",
    "from datasets import load_dataset, load_from_disk\n",
    "import torch"
   ]
  },
  {
   "cell_type": "code",
   "execution_count": 9,
   "metadata": {},
   "outputs": [],
   "source": [
    "class ModelTrainer:\n",
    "    def __init__(self, config: ModelTrainerConfig):\n",
    "        self.config = config\n",
    "    \n",
    "    def train(self):\n",
    "        device = \"cuda\" if torch.cuda.is_available() else \"cpu\"\n",
    "        tokenizer = AutoTokenizer.from_pretrained(self.config.model_ckpt)\n",
    "        model_pegasus = AutoModelForSeq2SeqLM.from_pretrained(self.config.model_ckpt).to(device)\n",
    "        seq2seq_data_collator = DataCollatorForSeq2Seq(tokenizer, model=model_pegasus)\n",
    "        \n",
    "        # Loading data in smaller chunks\n",
    "        dataset_samsum_pt = load_from_disk(self.config.data_path)\n",
    "        train_dataset = dataset_samsum_pt[\"test\"].shuffle(seed=42).select(range(5))\n",
    "        eval_dataset = dataset_samsum_pt[\"validation\"]\n",
    "\n",
    "        # Reducing batch size and gradient accumulation\n",
    "        per_device_train_batch_size = 2\n",
    "        gradient_accumulation_steps = 8\n",
    "        effective_batch_size = per_device_train_batch_size * gradient_accumulation_steps\n",
    "\n",
    "        trainer_args = TrainingArguments(\n",
    "            output_dir=self.config.root_dir,\n",
    "            num_train_epochs=1,\n",
    "            warmup_steps=500,\n",
    "            per_device_train_batch_size=per_device_train_batch_size,\n",
    "            per_device_eval_batch_size=8,\n",
    "            weight_decay=0.01,\n",
    "            logging_steps=10,\n",
    "            evaluation_strategy='steps',\n",
    "            eval_steps=500,\n",
    "            save_steps=1e6,\n",
    "            gradient_accumulation_steps=gradient_accumulation_steps,\n",
    "            dataloader_num_workers=4  # Adjust based on your system capabilities\n",
    "        )\n",
    "\n",
    "        trainer = Trainer(\n",
    "            model=model_pegasus,\n",
    "            args=trainer_args,\n",
    "            tokenizer=tokenizer,\n",
    "            data_collator=seq2seq_data_collator,A\n",
    "            train_dataset=train_dataset,\n",
    "            eval_dataset=eval_dataset\n",
    "        )\n",
    "\n",
    "        trainer.train()\n",
    "\n",
    "        # Save model and tokenizer\n",
    "        model_pegasus.save_pretrained(os.path.join(self.config.root_dir, \"pegasus-samsum-model\"))\n",
    "        tokenizer.save_pretrained(os.path.join(self.config.root_dir, \"tokenizer\"))\n"
   ]
  },
  {
   "cell_type": "code",
   "execution_count": 12,
   "metadata": {},
   "outputs": [
    {
     "name": "stdout",
     "output_type": "stream",
     "text": [
      "Requirement already satisfied: accelerate in d:\\applications\\anaconda\\anaconda_navigator\\envs\\texts\\lib\\site-packages (0.19.0)Note: you may need to restart the kernel to use updated packages.\n",
      "\n",
      "Requirement already satisfied: psutil in d:\\applications\\anaconda\\anaconda_navigator\\envs\\texts\\lib\\site-packages (from accelerate) (5.9.5)\n",
      "Requirement already satisfied: torch>=1.6.0 in d:\\applications\\anaconda\\anaconda_navigator\\envs\\texts\\lib\\site-packages (from accelerate) (2.0.1)\n",
      "Requirement already satisfied: numpy>=1.17 in d:\\applications\\anaconda\\anaconda_navigator\\envs\\texts\\lib\\site-packages (from accelerate) (1.24.3)\n",
      "Requirement already satisfied: pyyaml in d:\\applications\\anaconda\\anaconda_navigator\\envs\\texts\\lib\\site-packages (from accelerate) (6.0)\n",
      "Requirement already satisfied: packaging>=20.0 in d:\\applications\\anaconda\\anaconda_navigator\\envs\\texts\\lib\\site-packages (from accelerate) (23.1)\n",
      "Requirement already satisfied: jinja2 in d:\\applications\\anaconda\\anaconda_navigator\\envs\\texts\\lib\\site-packages (from torch>=1.6.0->accelerate) (3.1.2)\n",
      "Requirement already satisfied: networkx in d:\\applications\\anaconda\\anaconda_navigator\\envs\\texts\\lib\\site-packages (from torch>=1.6.0->accelerate) (3.1)\n",
      "Requirement already satisfied: sympy in d:\\applications\\anaconda\\anaconda_navigator\\envs\\texts\\lib\\site-packages (from torch>=1.6.0->accelerate) (1.12)\n",
      "Requirement already satisfied: filelock in d:\\applications\\anaconda\\anaconda_navigator\\envs\\texts\\lib\\site-packages (from torch>=1.6.0->accelerate) (3.12.0)\n",
      "Requirement already satisfied: typing-extensions in d:\\applications\\anaconda\\anaconda_navigator\\envs\\texts\\lib\\site-packages (from torch>=1.6.0->accelerate) (4.6.2)\n",
      "Requirement already satisfied: MarkupSafe>=2.0 in d:\\applications\\anaconda\\anaconda_navigator\\envs\\texts\\lib\\site-packages (from jinja2->torch>=1.6.0->accelerate) (2.1.2)\n",
      "Requirement already satisfied: mpmath>=0.19 in d:\\applications\\anaconda\\anaconda_navigator\\envs\\texts\\lib\\site-packages (from sympy->torch>=1.6.0->accelerate) (1.3.0)\n",
      "Found existing installation: transformers 4.29.2\n",
      "Uninstalling transformers-4.29.2:\n",
      "  Successfully uninstalled transformers-4.29.2\n",
      "Found existing installation: accelerate 0.19.0\n",
      "Uninstalling accelerate-0.19.0:\n",
      "  Successfully uninstalled accelerate-0.19.0\n",
      "Note: you may need to restart the kernel to use updated packages.\n",
      "Collecting transformers\n",
      "  Using cached transformers-4.29.2-py3-none-any.whl (7.1 MB)\n",
      "Collecting accelerate\n",
      "  Using cached accelerate-0.19.0-py3-none-any.whl (219 kB)\n",
      "Requirement already satisfied: packaging>=20.0 in d:\\applications\\anaconda\\anaconda_navigator\\envs\\texts\\lib\\site-packages (from transformers) (23.1)\n",
      "Requirement already satisfied: tqdm>=4.27 in d:\\applications\\anaconda\\anaconda_navigator\\envs\\texts\\lib\\site-packages (from transformers) (4.65.0)\n",
      "Requirement already satisfied: filelock in d:\\applications\\anaconda\\anaconda_navigator\\envs\\texts\\lib\\site-packages (from transformers) (3.12.0)\n",
      "Requirement already satisfied: requests in d:\\applications\\anaconda\\anaconda_navigator\\envs\\texts\\lib\\site-packages (from transformers) (2.31.0)\n",
      "Requirement already satisfied: huggingface-hub<1.0,>=0.14.1 in d:\\applications\\anaconda\\anaconda_navigator\\envs\\texts\\lib\\site-packages (from transformers) (0.14.1)\n",
      "Requirement already satisfied: tokenizers!=0.11.3,<0.14,>=0.11.1 in d:\\applications\\anaconda\\anaconda_navigator\\envs\\texts\\lib\\site-packages (from transformers) (0.13.3)\n",
      "Requirement already satisfied: pyyaml>=5.1 in d:\\applications\\anaconda\\anaconda_navigator\\envs\\texts\\lib\\site-packages (from transformers) (6.0)\n",
      "Requirement already satisfied: regex!=2019.12.17 in d:\\applications\\anaconda\\anaconda_navigator\\envs\\texts\\lib\\site-packages (from transformers) (2023.5.5)\n",
      "Requirement already satisfied: numpy>=1.17 in d:\\applications\\anaconda\\anaconda_navigator\\envs\\texts\\lib\\site-packages (from transformers) (1.24.3)\n",
      "Requirement already satisfied: torch>=1.6.0 in d:\\applications\\anaconda\\anaconda_navigator\\envs\\texts\\lib\\site-packages (from accelerate) (2.0.1)\n",
      "Requirement already satisfied: psutil in d:\\applications\\anaconda\\anaconda_navigator\\envs\\texts\\lib\\site-packages (from accelerate) (5.9.5)\n",
      "Requirement already satisfied: typing-extensions>=3.7.4.3 in d:\\applications\\anaconda\\anaconda_navigator\\envs\\texts\\lib\\site-packages (from huggingface-hub<1.0,>=0.14.1->transformers) (4.6.2)\n",
      "Requirement already satisfied: fsspec in d:\\applications\\anaconda\\anaconda_navigator\\envs\\texts\\lib\\site-packages (from huggingface-hub<1.0,>=0.14.1->transformers) (2023.5.0)\n",
      "Requirement already satisfied: sympy in d:\\applications\\anaconda\\anaconda_navigator\\envs\\texts\\lib\\site-packages (from torch>=1.6.0->accelerate) (1.12)\n",
      "Requirement already satisfied: networkx in d:\\applications\\anaconda\\anaconda_navigator\\envs\\texts\\lib\\site-packages (from torch>=1.6.0->accelerate) (3.1)\n",
      "Requirement already satisfied: jinja2 in d:\\applications\\anaconda\\anaconda_navigator\\envs\\texts\\lib\\site-packages (from torch>=1.6.0->accelerate) (3.1.2)\n",
      "Requirement already satisfied: colorama in d:\\applications\\anaconda\\anaconda_navigator\\envs\\texts\\lib\\site-packages (from tqdm>=4.27->transformers) (0.4.6)\n",
      "Requirement already satisfied: idna<4,>=2.5 in d:\\applications\\anaconda\\anaconda_navigator\\envs\\texts\\lib\\site-packages (from requests->transformers) (3.4)\n",
      "Requirement already satisfied: urllib3<3,>=1.21.1 in d:\\applications\\anaconda\\anaconda_navigator\\envs\\texts\\lib\\site-packages (from requests->transformers) (1.26.16)\n",
      "Requirement already satisfied: charset-normalizer<4,>=2 in d:\\applications\\anaconda\\anaconda_navigator\\envs\\texts\\lib\\site-packages (from requests->transformers) (3.1.0)\n",
      "Requirement already satisfied: certifi>=2017.4.17 in d:\\applications\\anaconda\\anaconda_navigator\\envs\\texts\\lib\\site-packages (from requests->transformers) (2023.5.7)\n",
      "Requirement already satisfied: MarkupSafe>=2.0 in d:\\applications\\anaconda\\anaconda_navigator\\envs\\texts\\lib\\site-packages (from jinja2->torch>=1.6.0->accelerate) (2.1.2)\n",
      "Requirement already satisfied: mpmath>=0.19 in d:\\applications\\anaconda\\anaconda_navigator\\envs\\texts\\lib\\site-packages (from sympy->torch>=1.6.0->accelerate) (1.3.0)\n",
      "Installing collected packages: transformers, accelerate\n",
      "Successfully installed accelerate-0.19.0 transformers-4.29.2\n",
      "Note: you may need to restart the kernel to use updated packages.\n"
     ]
    }
   ],
   "source": [
    "%pip install --upgrade accelerate\n",
    "%pip uninstall -y transformers accelerate\n",
    "%pip install transformers accelerate"
   ]
  },
  {
   "cell_type": "code",
   "execution_count": 10,
   "metadata": {},
   "outputs": [
    {
     "name": "stdout",
     "output_type": "stream",
     "text": [
      "[2023-06-02 05:25:52,857 : INFO :  common : yaml file: config\\config.yaml loaded successfully]\n",
      "[2023-06-02 05:25:52,876 : INFO :  common : yaml file: params.yaml loaded successfully]\n",
      "[2023-06-02 05:25:52,892 : INFO :  common : creating directory at : artifacts]\n",
      "[2023-06-02 05:25:52,894 : INFO :  common : creating directory at : artifacts/model_trainer]\n",
      "[2023-06-02 05:27:08,584 : WARNING :  arrow_dataset : Loading cached shuffled indices for dataset at E:\\END TO END ML PROJECT\\Text-Summarizer\\artifacts\\data_transformation\\samsum_dataset\\test\\cache-58068f81d0dc399d.arrow]\n"
     ]
    },
    {
     "name": "stderr",
     "output_type": "stream",
     "text": [
      "d:\\Applications\\ANACONDA\\ANACONDA_NAVIGATOR\\envs\\textS\\lib\\site-packages\\transformers\\optimization.py:407: FutureWarning: This implementation of AdamW is deprecated and will be removed in a future version. Use the PyTorch implementation torch.optim.AdamW instead, or set `no_deprecation_warning=True` to disable this warning\n",
      "  warnings.warn(\n",
      "100%|██████████| 1/1 [05:37<00:00, 337.12s/it]\n"
     ]
    },
    {
     "name": "stdout",
     "output_type": "stream",
     "text": [
      "{'train_runtime': 338.5898, 'train_samples_per_second': 0.015, 'train_steps_per_second': 0.003, 'train_loss': 1.535412073135376, 'epoch': 1.0}\n"
     ]
    }
   ],
   "source": [
    "\n",
    "try:\n",
    "    config = ConfigurationManager()\n",
    "    model_trainer_config = config.get_model_trainer_config()\n",
    "    model_trainer_config = ModelTrainer(config=model_trainer_config)\n",
    "    model_trainer_config.train()\n",
    "except Exception as e:\n",
    "    raise e"
   ]
  },
  {
   "cell_type": "code",
   "execution_count": null,
   "metadata": {},
   "outputs": [],
   "source": []
  }
 ],
 "metadata": {
  "kernelspec": {
   "display_name": "textS",
   "language": "python",
   "name": "python3"
  },
  "language_info": {
   "codemirror_mode": {
    "name": "ipython",
    "version": 3
   },
   "file_extension": ".py",
   "mimetype": "text/x-python",
   "name": "python",
   "nbconvert_exporter": "python",
   "pygments_lexer": "ipython3",
   "version": "3.8.16"
  },
  "orig_nbformat": 4
 },
 "nbformat": 4,
 "nbformat_minor": 2
}
